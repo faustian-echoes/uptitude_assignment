{
  "nbformat": 4,
  "nbformat_minor": 0,
  "metadata": {
    "colab": {
      "provenance": [],
      "authorship_tag": "ABX9TyPrgMo9C5OwhIZbZYgZuFzx",
      "include_colab_link": true
    },
    "kernelspec": {
      "name": "python3",
      "display_name": "Python 3"
    },
    "language_info": {
      "name": "python"
    }
  },
  "cells": [
    {
      "cell_type": "markdown",
      "metadata": {
        "id": "view-in-github",
        "colab_type": "text"
      },
      "source": [
        "<a href=\"https://colab.research.google.com/github/faustian-echoes/uptitude_assignment/blob/main/uptitude_open_restaurants.ipynb\" target=\"_parent\"><img src=\"https://colab.research.google.com/assets/colab-badge.svg\" alt=\"Open In Colab\"/></a>"
      ]
    },
    {
      "cell_type": "markdown",
      "source": [],
      "metadata": {
        "id": "-OQ4KrAtgrek"
      }
    },
    {
      "cell_type": "code",
      "source": [
        "#import modules\n",
        "import pandas as pd\n",
        "from datetime import datetime\n",
        "import numpy as np"
      ],
      "metadata": {
        "id": "07fzWfqlzkWQ"
      },
      "execution_count": 5,
      "outputs": []
    },
    {
      "cell_type": "code",
      "source": [
        "#Function which accepts file\n",
        "def open_hotels(restaurant_file_path,date_time):\n",
        "\n",
        "  #creating pandas dataframe using restaurant csv file \n",
        "  df = pd.read_csv(restaurant_file_path, names = ['restaurant_name','operation_time'])\n",
        "\n",
        "  #drop rows with null values\n",
        "  df = df.dropna(how='any',axis=0)\n",
        "\n",
        "  #creating rows from columns by using '/' as separator using explode function\n",
        "  df = (df.set_index(['restaurant_name']).apply(lambda x: x.str.split('/').explode()).reset_index()) \n",
        "\n",
        "  #removing extra spaces\n",
        "  df['operation_time'] = df['operation_time'].str.strip()\n",
        "\n",
        "  #splitting the operation_time column to capture start time, end time and days of operation value.\n",
        "  #Storing them in a temporary df\n",
        "  temp = df[\"operation_time\"].str.rsplit(\" \", n = 5, expand = True)\n",
        "  df ['days'] = temp [0]\n",
        "  df ['start_time'] = temp [1] +' ' + temp [2]\n",
        "  df ['end_time'] = temp[4] + ' ' + temp[5]\n",
        "\n",
        "  #Drop operaation time\n",
        "  df = df.drop(['operation_time'], axis=1)\n",
        "\n",
        "  #Splitting columns into rows based on ',' separator in days column.\n",
        "  df_final = (df.set_index(['restaurant_name','start_time','end_time']).apply(lambda x: x.str.split(',').explode()).reset_index()) \n",
        "\n",
        "  #Splitting days column into 2 columns based on '-' separator and storing in temp df\n",
        "  temp = df_final[\"days\"].str. rsplit(\"-\", n = 1, expand = True)\n",
        "\n",
        "  #Creating start and end day columns from temp df\n",
        "  df_final['start_day'] = temp[0]\n",
        "  df_final['end_day'] = temp[1]\n",
        "\n",
        "  #dropping days column as we have info available in start and end day columns\n",
        "  df_final = df_final.drop(['days'], axis=1)\n",
        "\n",
        "  #for columns where end day is null, end day is populated same as start day\n",
        "  #e.g.- restaurants only operational on single day.\n",
        "  df_final['end_day'].fillna(df_final['start_day'], inplace = True)\n",
        "\n",
        "  #Removing extra spaces\n",
        "  df_final['start_day'] = df_final['start_day'].str.strip()\n",
        "  df_final['end_day'] = df_final['end_day'].str.strip()\n",
        "\n",
        "  #Creating a dictionary with day and weekday numbers\n",
        "  dict_days = {'Mon' : 0 , 'Tue' : 1 , 'Wed' : 2 , 'Thu' : 3 , 'Fri' : 4 , 'Sat' : 5 , 'Sun' : 6}\n",
        "\n",
        "  #Replacing start and end day values by dictionay values so that it's easier to compare\n",
        "  df_final = df_final.replace({\"start_day\": dict_days})\n",
        "  df_final = df_final.replace({\"end_day\": dict_days})\n",
        "\n",
        "  #cleaning the start and end time columns to represent in proper 24 hr time format.\n",
        "  df_final['start_time'] = np.where (df_final['start_time'].str.contains(':'),df_final[\"start_time\"],df_final[\"start_time\"].str.rsplit(\" \", n = 1, expand = True)[0] + ':00 ' + df_final[\"start_time\"].str.rsplit(\" \", n = 1, expand = True)[1])\n",
        "  df_final['end_time'] = np.where (df_final['end_time'].str.contains(':'),df_final[\"end_time\"],df_final[\"end_time\"].str.rsplit(\" \", n = 1, expand = True)[0] + ':00 ' + df_final[\"end_time\"].str.rsplit(\" \", n = 1, expand = True)[1])\n",
        "\n",
        "  df_final['start_time'] = pd.to_datetime(df_final['start_time'])\n",
        "  df_final['end_time'] = pd.to_datetime(df_final['end_time'])\n",
        "\n",
        "  df_final['start_time'] = df_final['start_time'].dt.strftime('%H:%M')\n",
        "  df_final['end_time'] = df_final['end_time'].dt.strftime('%H:%M')\n",
        "\n",
        "  #Replacing ':' from 24 hr time format values to give a proper integer value\n",
        "  df_final['start_time'] = df_final['start_time'].str.replace(':','')\n",
        "  df_final['end_time'] = df_final['end_time'].str.replace(':','')\n",
        "\n",
        "  #This special condition is for restaurants that operate beyond midnight.\n",
        "  #For our derivations, adding 2400 hrs to their end time if end _time < start_time\n",
        "  df_final['end_time'] = np.where (df_final['end_time'] < df_final['start_time'],\n",
        "  df_final['end_time'].astype(int) + 2400, df_final['end_time'])\n",
        "\n",
        "\n",
        "  #getting time and weekday information from input datetime value\n",
        "  date_time_string = str(date_time)[11:16]\n",
        "\n",
        "  weekday = date_time.weekday()\n",
        "  #print(weekday)\n",
        "\n",
        "  date_time_string = date_time_string.replace(':','')\n",
        "  #print(date_time_string)\n",
        "\n",
        "  #Finally storing the open restaurant names in a separate df\n",
        "  #checking if weekday from input datetime values lies between start and end day value of a restaurant operation\n",
        "  #also checking the time from datetime value lies between restaurants opening and closing time for that particular weekday.\n",
        "  df_final_open = df_final[(df_final['start_day'] <= weekday) & (df_final['end_day'] >= weekday) & (df_final['start_time'] <= date_time_string) & (df_final['end_time'].astype(str) >= date_time_string)]\n",
        "\n",
        "  #printing list of open restaurants.\n",
        "  print(df_final_open['restaurant_name'].to_string(index=False))\n"
      ],
      "metadata": {
        "id": "D7Up2wvIzmuh"
      },
      "execution_count": 12,
      "outputs": []
    }
  ]
}